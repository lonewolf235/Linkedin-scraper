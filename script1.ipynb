{
 "cells": [
  {
   "cell_type": "code",
   "execution_count": 1,
   "metadata": {},
   "outputs": [],
   "source": [
    "import requests\n",
    "import pandas as pd\n",
    "\n",
    "# Input first and last name\n",
    "first_name = input(\"Enter first name: \")\n",
    "last_name = input(\"Enter last name: \")"
   ]
  },
  {
   "cell_type": "code",
   "execution_count": 4,
   "metadata": {},
   "outputs": [
    {
     "data": {
      "text/plain": [
       "{'serviceErrorCode': 65600, 'message': 'Invalid access token', 'status': 401}"
      ]
     },
     "execution_count": 4,
     "metadata": {},
     "output_type": "execute_result"
    }
   ],
   "source": [
    "url = \"https://api.linkedin.com/v2/people-search?first_name=\" + first_name + \"&last_name=\" + last_name + \"&count=10\"\n",
    "headers = {\n",
    "    \"Authorization\":,\n",
    "    \"Connection\": \"\"\n",
    "}\n",
    "response = requests.get(url, headers=headers)\n",
    "\n",
    "# Processing the API response\n",
    "data = response.json()\n",
    "relevant_data = data "
   ]
  }
 ],
 "metadata": {
  "kernelspec": {
   "display_name": "Python 3",
   "language": "python",
   "name": "python3"
  },
  "language_info": {
   "codemirror_mode": {
    "name": "ipython",
    "version": 3
   },
   "file_extension": ".py",
   "mimetype": "text/x-python",
   "name": "python",
   "nbconvert_exporter": "python",
   "pygments_lexer": "ipython3",
   "version": "3.10.13"
  }
 },
 "nbformat": 4,
 "nbformat_minor": 2
}
